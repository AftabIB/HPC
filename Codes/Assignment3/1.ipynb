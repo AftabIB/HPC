{
 "cells": [
  {
   "cell_type": "code",
   "execution_count": null,
   "metadata": {},
   "outputs": [
    {
     "ename": "",
     "evalue": "",
     "output_type": "error",
     "traceback": [
      "\u001b[1;31mRunning cells with 'Python 3.12.3' requires the ipykernel package.\n",
      "\u001b[1;31mRun the following command to install 'ipykernel' into the Python environment. \n",
      "\u001b[1;31mCommand: '/bin/python3 -m pip install ipykernel -U --user --force-reinstall'"
     ]
    }
   ],
   "source": [
    "import matplotlib.pyplot as plt\n",
    "\n",
    "# Example data (replace with your actual data)\n",
    "threads = [1, 2, 4, 8]\n",
    "speedup_250 = [1, 1.8, 3.2, 5.0]\n",
    "speedup_500 = [1, 1.9, 3.5, 5.5]\n",
    "\n",
    "plt.plot(threads, speedup_250, label='250x250 Matrix', marker='o')\n",
    "plt.plot(threads, speedup_500, label='500x500 Matrix', marker='o')\n",
    "\n",
    "plt.xlabel('Number of Threads')\n",
    "plt.ylabel('Speedup')\n",
    "plt.title('Speedup vs Number of Threads')\n",
    "plt.legend()\n",
    "plt.grid(True)\n",
    "plt.show()"
   ]
  }
 ],
 "metadata": {
  "kernelspec": {
   "display_name": "Python 3",
   "language": "python",
   "name": "python3"
  },
  "language_info": {
   "name": "python",
   "version": "3.12.3"
  }
 },
 "nbformat": 4,
 "nbformat_minor": 2
}
