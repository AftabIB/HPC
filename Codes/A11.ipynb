{
  "nbformat": 4,
  "nbformat_minor": 0,
  "metadata": {
    "colab": {
      "provenance": [],
      "gpuType": "T4"
    },
    "kernelspec": {
      "name": "python3",
      "display_name": "Python 3"
    },
    "language_info": {
      "name": "python"
    },
    "accelerator": "GPU"
  },
  "cells": [
    {
      "cell_type": "code",
      "execution_count": null,
      "metadata": {
        "colab": {
          "base_uri": "https://localhost:8080/"
        },
        "id": "yOHFykk_FWVw",
        "outputId": "f4dc270a-224c-4fb0-b0c6-f0b80a7a1497"
      },
      "outputs": [
        {
          "output_type": "stream",
          "name": "stdout",
          "text": [
            "Collecting nvcc4jupyter\n",
            "  Downloading nvcc4jupyter-1.2.1-py3-none-any.whl.metadata (5.1 kB)\n",
            "Downloading nvcc4jupyter-1.2.1-py3-none-any.whl (10 kB)\n",
            "Installing collected packages: nvcc4jupyter\n",
            "Successfully installed nvcc4jupyter-1.2.1\n"
          ]
        }
      ],
      "source": [
        "pip install nvcc4jupyter"
      ]
    },
    {
      "cell_type": "code",
      "source": [
        "# Q1\n",
        "%%writefile cuda_device_info.cu\n",
        "#include <stdio.h>\n",
        "#include <stdlib.h>\n",
        "\n",
        "int main()\n",
        "{\n",
        "    int deviceCount;\n",
        "    cudaGetDeviceCount(&deviceCount);\n",
        "    if (deviceCount == 0) {\n",
        "        printf(\"There is no device supporting CUDA\\n\");\n",
        "    }\n",
        "    int dev;\n",
        "    for (dev = 0; dev < deviceCount; ++dev)\n",
        "    {\n",
        "        cudaDeviceProp deviceProp;\n",
        "        cudaGetDeviceProperties(&deviceProp, dev);\n",
        "        if (dev == 0) {\n",
        "            if (deviceProp.major < 1) {\n",
        "                printf(\"There is no device supporting CUDA.\\n\");\n",
        "            } else if (deviceCount == 1) {\n",
        "                printf(\"There is 1 device supporting CUDA\\n\");\n",
        "            } else {\n",
        "                printf(\"There are %d devices supporting CUDA\\n\", deviceCount);\n",
        "            }\n",
        "        }\n",
        "        printf(\"\\nDevice %d: \\\"%s\\\"\\n\", dev, deviceProp.name);\n",
        "        printf(\"  Major revision number:                         %d\\n\", deviceProp.major);\n",
        "        printf(\"  Minor revision number:                         %d\\n\", deviceProp.minor);\n",
        "        printf(\"  Total amount of global memory:                 %zu bytes\\n\", deviceProp.totalGlobalMem);\n",
        "        printf(\"  Total amount of constant memory:               %zu bytes\\n\", deviceProp.totalConstMem);\n",
        "        printf(\"  Total amount of shared memory per block:       %zu bytes\\n\", deviceProp.sharedMemPerBlock);\n",
        "        printf(\"  Total number of registers available per block: %d\\n\", deviceProp.regsPerBlock);\n",
        "        printf(\"  Warp size:                                     %d\\n\", deviceProp.warpSize);\n",
        "        printf(\"  Multiprocessor count:                          %d\\n\",deviceProp.multiProcessorCount );\n",
        "        printf(\"  Maximum number of threads per block:           %d\\n\", deviceProp.maxThreadsPerBlock);\n",
        "        printf(\"  Maximum sizes of each dimension of a block:    %d x %d x %d\\n\", deviceProp.maxThreadsDim[0],deviceProp.maxThreadsDim[1], deviceProp.maxThreadsDim[2]);\n",
        "        printf(\"  Maximum sizes of each dimension of a grid:     %d x %d x %d\\n\", deviceProp.maxGridSize[0], deviceProp.maxGridSize[1],  deviceProp.maxGridSize[2]);\n",
        "        printf(\"  Maximum memory pitch:                          %zu bytes\\n\", deviceProp.memPitch);\n",
        "        printf(\"  Texture alignment:                             %zu bytes\\n\", deviceProp.textureAlignment);\n",
        "        printf(\"  Clock rate:                                    %d kilohertz\\n\", deviceProp.clockRate);\n",
        "    }\n",
        "}\n"
      ],
      "metadata": {
        "colab": {
          "base_uri": "https://localhost:8080/"
        },
        "id": "9KjBleCYFYg2",
        "outputId": "bfbad59c-5cfb-4f82-b169-db2802f62e77"
      },
      "execution_count": null,
      "outputs": [
        {
          "output_type": "stream",
          "name": "stdout",
          "text": [
            "Writing cuda_device_info.cu\n"
          ]
        }
      ]
    },
    {
      "cell_type": "code",
      "source": [
        "!nvcc cuda_device_info.cu -o cuda_device_info"
      ],
      "metadata": {
        "id": "a1ZLfo3EFoBA"
      },
      "execution_count": null,
      "outputs": []
    },
    {
      "cell_type": "code",
      "source": [
        "!./cuda_device_info"
      ],
      "metadata": {
        "colab": {
          "base_uri": "https://localhost:8080/"
        },
        "id": "M_iWZiWSFq_1",
        "outputId": "6d531d66-7523-4a6f-8512-4fa90f5b1ee7"
      },
      "execution_count": null,
      "outputs": [
        {
          "output_type": "stream",
          "name": "stdout",
          "text": [
            "There is 1 device supporting CUDA\n",
            "\n",
            "Device 0: \"Tesla T4\"\n",
            "  Major revision number:                         7\n",
            "  Minor revision number:                         5\n",
            "  Total amount of global memory:                 15835660288 bytes\n",
            "  Total amount of constant memory:               65536 bytes\n",
            "  Total amount of shared memory per block:       49152 bytes\n",
            "  Total number of registers available per block: 65536\n",
            "  Warp size:                                     32\n",
            "  Multiprocessor count:                          40\n",
            "  Maximum number of threads per block:           1024\n",
            "  Maximum sizes of each dimension of a block:    1024 x 1024 x 64\n",
            "  Maximum sizes of each dimension of a grid:     2147483647 x 65535 x 65535\n",
            "  Maximum memory pitch:                          2147483647 bytes\n",
            "  Texture alignment:                             512 bytes\n",
            "  Clock rate:                                    1590000 kilohertz\n"
          ]
        }
      ]
    },
    {
      "cell_type": "code",
      "source": [
        "# Q2\n",
        "%%writefile hello_cuda.cu\n",
        "#include <stdio.h>\n",
        "\n",
        "// CUDA kernel\n",
        "__global__ void helloFromThreads() {\n",
        "    int tid = threadIdx.x;\n",
        "    printf(\"Hello World from thread %d\\n\", tid);\n",
        "}\n",
        "\n",
        "int main() {\n",
        "    int numThreads = 10;\n",
        "    helloFromThreads<<<1, numThreads>>>();\n",
        "    cudaDeviceSynchronize();\n",
        "\n",
        "    return 0;\n",
        "}\n"
      ],
      "metadata": {
        "colab": {
          "base_uri": "https://localhost:8080/"
        },
        "id": "uGOYHK3dFtXO",
        "outputId": "731f9af0-a9b8-471c-afc1-b8afc6b1a7e1"
      },
      "execution_count": null,
      "outputs": [
        {
          "output_type": "stream",
          "name": "stdout",
          "text": [
            "Writing hello_cuda.cu\n"
          ]
        }
      ]
    },
    {
      "cell_type": "code",
      "source": [
        "!nvcc hello_cuda.cu -o hello_cuda"
      ],
      "metadata": {
        "id": "qfSuFCsPFwGE"
      },
      "execution_count": null,
      "outputs": []
    },
    {
      "cell_type": "code",
      "source": [
        "!./hello_cuda"
      ],
      "metadata": {
        "colab": {
          "base_uri": "https://localhost:8080/"
        },
        "id": "as7KDuXSFyP1",
        "outputId": "f1a9e152-fa81-42c7-e0e8-e7394ad3785d"
      },
      "execution_count": null,
      "outputs": [
        {
          "output_type": "stream",
          "name": "stdout",
          "text": [
            "Hello World from thread 0\n",
            "Hello World from thread 1\n",
            "Hello World from thread 2\n",
            "Hello World from thread 3\n",
            "Hello World from thread 4\n",
            "Hello World from thread 5\n",
            "Hello World from thread 6\n",
            "Hello World from thread 7\n",
            "Hello World from thread 8\n",
            "Hello World from thread 9\n"
          ]
        }
      ]
    },
    {
      "cell_type": "code",
      "source": [
        "# Q3\n",
        "%%writefile hello_multi_cuda.cu\n",
        "#include <stdio.h>\n",
        "\n",
        "// CUDA kernel\n",
        "__global__ void helloFromThreads() {\n",
        "    int threadID = blockIdx.x * blockDim.x + threadIdx.x;\n",
        "    printf(\"Hello World from block %d, thread %d (Global thread ID: %d)\\n\", blockIdx.x, threadIdx.x, threadID);\n",
        "}\n",
        "\n",
        "int main() {\n",
        "    int threadsPerBlock = 4;\n",
        "    int numBlocks = 3;\n",
        "    helloFromThreads<<<numBlocks, threadsPerBlock>>>();\n",
        "    cudaDeviceSynchronize();\n",
        "\n",
        "    return 0;\n",
        "}"
      ],
      "metadata": {
        "colab": {
          "base_uri": "https://localhost:8080/"
        },
        "id": "aIF-DZ85F00f",
        "outputId": "bd9cc6e2-060a-4888-d9e1-578c369b27e7"
      },
      "execution_count": null,
      "outputs": [
        {
          "output_type": "stream",
          "name": "stdout",
          "text": [
            "Writing hello_multi_cuda.cu\n"
          ]
        }
      ]
    },
    {
      "cell_type": "code",
      "source": [
        "!nvcc hello_multi_cuda.cu -o hello_multi_cuda"
      ],
      "metadata": {
        "id": "MxbFtM6SF3Ac"
      },
      "execution_count": null,
      "outputs": []
    },
    {
      "cell_type": "code",
      "source": [
        "!./hello_multi_cuda"
      ],
      "metadata": {
        "colab": {
          "base_uri": "https://localhost:8080/"
        },
        "id": "DuQ9KLZoF5KN",
        "outputId": "796874d0-ca00-4dda-c683-27e61035ed42"
      },
      "execution_count": null,
      "outputs": [
        {
          "output_type": "stream",
          "name": "stdout",
          "text": [
            "Hello World from block 1, thread 0 (Global thread ID: 4)\n",
            "Hello World from block 1, thread 1 (Global thread ID: 5)\n",
            "Hello World from block 1, thread 2 (Global thread ID: 6)\n",
            "Hello World from block 1, thread 3 (Global thread ID: 7)\n",
            "Hello World from block 2, thread 0 (Global thread ID: 8)\n",
            "Hello World from block 2, thread 1 (Global thread ID: 9)\n",
            "Hello World from block 2, thread 2 (Global thread ID: 10)\n",
            "Hello World from block 2, thread 3 (Global thread ID: 11)\n",
            "Hello World from block 0, thread 0 (Global thread ID: 0)\n",
            "Hello World from block 0, thread 1 (Global thread ID: 1)\n",
            "Hello World from block 0, thread 2 (Global thread ID: 2)\n",
            "Hello World from block 0, thread 3 (Global thread ID: 3)\n"
          ]
        }
      ]
    },
    {
      "cell_type": "code",
      "source": [
        "# Q4\n",
        "%%writefile hello_2d_cuda.cu\n",
        "#include <stdio.h>\n",
        "\n",
        "// CUDA kernel\n",
        "__global__ void helloFrom2DThreads() {\n",
        "    // Get the thread ID in the 2D grid\n",
        "    int threadID_x = threadIdx.x;\n",
        "    int threadID_y = threadIdx.y;\n",
        "\n",
        "    int blockID_x = blockIdx.x;\n",
        "    int blockID_y = blockIdx.y;\n",
        "    printf(\"Hello World from block (%d, %d), thread (%d, %d)\\n\", blockID_x, blockID_y, threadID_x, threadID_y);\n",
        "}\n",
        "\n",
        "int main() {\n",
        "    dim3 threadsPerBlock(4, 4);\n",
        "    dim3 numBlocks(2, 2);\n",
        "\n",
        "    helloFrom2DThreads<<<numBlocks, threadsPerBlock>>>();\n",
        "    cudaDeviceSynchronize();\n",
        "\n",
        "    return 0;\n",
        "}"
      ],
      "metadata": {
        "colab": {
          "base_uri": "https://localhost:8080/"
        },
        "id": "tJxid7WFF7DC",
        "outputId": "07d5e206-d507-4b43-80df-f42b87dc1af2"
      },
      "execution_count": null,
      "outputs": [
        {
          "output_type": "stream",
          "name": "stdout",
          "text": [
            "Writing hello_2d_cuda.cu\n"
          ]
        }
      ]
    },
    {
      "cell_type": "code",
      "source": [
        "!nvcc hello_2d_cuda.cu -o hello_2d_cuda"
      ],
      "metadata": {
        "id": "fF7ndB7tF9ll"
      },
      "execution_count": null,
      "outputs": []
    },
    {
      "cell_type": "code",
      "source": [
        "!./hello_2d_cuda"
      ],
      "metadata": {
        "colab": {
          "base_uri": "https://localhost:8080/"
        },
        "id": "q8HszkKcF_gd",
        "outputId": "199147f7-8279-4f5a-f135-cdc0288be6a2"
      },
      "execution_count": null,
      "outputs": [
        {
          "output_type": "stream",
          "name": "stdout",
          "text": [
            "Hello World from block (1, 0), thread (0, 0)\n",
            "Hello World from block (1, 0), thread (1, 0)\n",
            "Hello World from block (1, 0), thread (2, 0)\n",
            "Hello World from block (1, 0), thread (3, 0)\n",
            "Hello World from block (1, 0), thread (0, 1)\n",
            "Hello World from block (1, 0), thread (1, 1)\n",
            "Hello World from block (1, 0), thread (2, 1)\n",
            "Hello World from block (1, 0), thread (3, 1)\n",
            "Hello World from block (1, 0), thread (0, 2)\n",
            "Hello World from block (1, 0), thread (1, 2)\n",
            "Hello World from block (1, 0), thread (2, 2)\n",
            "Hello World from block (1, 0), thread (3, 2)\n",
            "Hello World from block (1, 0), thread (0, 3)\n",
            "Hello World from block (1, 0), thread (1, 3)\n",
            "Hello World from block (1, 0), thread (2, 3)\n",
            "Hello World from block (1, 0), thread (3, 3)\n",
            "Hello World from block (1, 1), thread (0, 0)\n",
            "Hello World from block (1, 1), thread (1, 0)\n",
            "Hello World from block (1, 1), thread (2, 0)\n",
            "Hello World from block (1, 1), thread (3, 0)\n",
            "Hello World from block (1, 1), thread (0, 1)\n",
            "Hello World from block (1, 1), thread (1, 1)\n",
            "Hello World from block (1, 1), thread (2, 1)\n",
            "Hello World from block (1, 1), thread (3, 1)\n",
            "Hello World from block (1, 1), thread (0, 2)\n",
            "Hello World from block (1, 1), thread (1, 2)\n",
            "Hello World from block (1, 1), thread (2, 2)\n",
            "Hello World from block (1, 1), thread (3, 2)\n",
            "Hello World from block (1, 1), thread (0, 3)\n",
            "Hello World from block (1, 1), thread (1, 3)\n",
            "Hello World from block (1, 1), thread (2, 3)\n",
            "Hello World from block (1, 1), thread (3, 3)\n",
            "Hello World from block (0, 1), thread (0, 0)\n",
            "Hello World from block (0, 1), thread (1, 0)\n",
            "Hello World from block (0, 1), thread (2, 0)\n",
            "Hello World from block (0, 1), thread (3, 0)\n",
            "Hello World from block (0, 1), thread (0, 1)\n",
            "Hello World from block (0, 1), thread (1, 1)\n",
            "Hello World from block (0, 1), thread (2, 1)\n",
            "Hello World from block (0, 1), thread (3, 1)\n",
            "Hello World from block (0, 1), thread (0, 2)\n",
            "Hello World from block (0, 1), thread (1, 2)\n",
            "Hello World from block (0, 1), thread (2, 2)\n",
            "Hello World from block (0, 1), thread (3, 2)\n",
            "Hello World from block (0, 1), thread (0, 3)\n",
            "Hello World from block (0, 1), thread (1, 3)\n",
            "Hello World from block (0, 1), thread (2, 3)\n",
            "Hello World from block (0, 1), thread (3, 3)\n",
            "Hello World from block (0, 0), thread (0, 0)\n",
            "Hello World from block (0, 0), thread (1, 0)\n",
            "Hello World from block (0, 0), thread (2, 0)\n",
            "Hello World from block (0, 0), thread (3, 0)\n",
            "Hello World from block (0, 0), thread (0, 1)\n",
            "Hello World from block (0, 0), thread (1, 1)\n",
            "Hello World from block (0, 0), thread (2, 1)\n",
            "Hello World from block (0, 0), thread (3, 1)\n",
            "Hello World from block (0, 0), thread (0, 2)\n",
            "Hello World from block (0, 0), thread (1, 2)\n",
            "Hello World from block (0, 0), thread (2, 2)\n",
            "Hello World from block (0, 0), thread (3, 2)\n",
            "Hello World from block (0, 0), thread (0, 3)\n",
            "Hello World from block (0, 0), thread (1, 3)\n",
            "Hello World from block (0, 0), thread (2, 3)\n",
            "Hello World from block (0, 0), thread (3, 3)\n"
          ]
        }
      ]
    }
  ]
}